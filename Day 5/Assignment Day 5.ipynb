{
 "cells": [
  {
   "cell_type": "code",
   "execution_count": 1,
   "metadata": {},
   "outputs": [
    {
     "name": "stdout",
     "output_type": "stream",
     "text": [
      "Enter start number 1\n",
      "Enter end number 1000\n",
      "[2, 3, 5, 7, 11, 13, 17, 19, 23, 29, 31, 37, 41, 43, 47, 53, 59, 61, 67, 71]\n"
     ]
    }
   ],
   "source": [
    "#Assignment 5 - Q-1\n",
    "#Python program to find the first 20 non-even prime natural numbers.\n",
    "a=int(input(\"Enter start number \"))\n",
    "b=int(input(\"Enter end number \"))\n",
    "X=[]\n",
    "z=0\n",
    "for num in range(a,b+1):\n",
    "    if num>1:\n",
    "        for i in range(2,num):\n",
    "            if num%i == 0:\n",
    "                break\n",
    "        else:\n",
    "            X.append(num)\n",
    "            z=z+1\n",
    "            if z==20:\n",
    "                break\n",
    "print(X)"
   ]
  },
  {
   "cell_type": "code",
   "execution_count": 2,
   "metadata": {},
   "outputs": [
    {
     "name": "stdout",
     "output_type": "stream",
     "text": [
      "Student is learning python and they are happy\n",
      "STUDENT IS LEARNING PYTHON AND THEY ARE HAPPY\n",
      "1\n",
      "False\n",
      "student is learning python and they are happy\n",
      "sTUDENT IS LEARNING PYTHON AND THEY ARE HAPPY\n",
      "True\n",
      "Student is learning Java and they are happy\n",
      "True\n",
      "Student Is Learning Python And They Are Happy\n",
      "['Student', 'is', 'learning', 'python', 'and', 'they', 'are', 'happy']\n",
      "Student is learning python and they are happy\n",
      "                           Student is learning python and they are happy                            \n",
      "31\n",
      "False\n",
      "Modi is learning python and they are happy\n"
     ]
    }
   ],
   "source": [
    "#Assignment 5 - Q-2\n",
    "#Python program to implement 15 functions of string.\n",
    "#Strings and Its Methods\n",
    "#Creation of Strings\n",
    "my_str='Student is learning python and they are happy'\n",
    "print(my_str)\n",
    "\n",
    "#Methods\n",
    "print(my_str.upper())\n",
    "print(my_str.count('Student'))\n",
    "print(my_str.isnumeric())\n",
    "print(my_str.lower())\n",
    "print(my_str.swapcase())\n",
    "print(my_str.endswith('happy'))\n",
    "print(my_str.replace('python','Java'))\n",
    "print(my_str.isprintable())\n",
    "print(my_str.title())\n",
    "print(my_str.split())\n",
    "print(my_str.capitalize())\n",
    "print(my_str.center(100))\n",
    "print(my_str.find(\"they\"))\n",
    "print(my_str.isalpha())\n",
    "print(my_str.replace(\"Student\",\"Modi\"))"
   ]
  },
  {
   "cell_type": "code",
   "execution_count": 6,
   "metadata": {},
   "outputs": [
    {
     "name": "stdout",
     "output_type": "stream",
     "text": [
      "Enter a First string: listen\n",
      "Enter a Second string: silent\n",
      "The strings are Anagram\n"
     ]
    }
   ],
   "source": [
    "#Assignment 5 - Q-3\n",
    "#Python program to check if the given string is a Palindrome or Anagram or None of them.\n",
    "#Display the message accordingly to the user.\n",
    "\n",
    "a=input(\"Enter a First string: \")\n",
    "b=input(\"Enter a Second string: \")\n",
    "\n",
    "\n",
    "X=[]\n",
    "for i in a:\n",
    "    X.append(i)\n",
    "if X==X[::-1]:\n",
    "    print(\"The given word is palindrome\")\n",
    "elif (sorted(a)==sorted(b)):\n",
    "    print(\"The strings are Anagram\")\n",
    "else:\n",
    "    print(\"None of the above !!!\")\n"
   ]
  },
  {
   "cell_type": "code",
   "execution_count": 5,
   "metadata": {},
   "outputs": [
    {
     "name": "stdout",
     "output_type": "stream",
     "text": [
      "Enter any string...Ravi$$$Solanki learning^^\n",
      "ravisolankilearning\n"
     ]
    }
   ],
   "source": [
    "#Assignment 5 - Q-4\n",
    "#Write a Python's user defined function that removes all the additional characters from the string\n",
    "#and converts it finally to lower case using built-in lower(). eg: If the string is \"Dr. Darshan Ingle\n",
    "#@AI-ML Trainer\", then the output be \"drdarshaningleaimltrainer\".\n",
    "name=input(\"Enter any string...\")\n",
    "alphabetic = \"\"\n",
    "\n",
    "for character in name:\n",
    "    if character.isalpha():\n",
    "        alphabetic += character\n",
    "print(alphabetic.lower())\n"
   ]
  }
 ],
 "metadata": {
  "kernelspec": {
   "display_name": "Python 3",
   "language": "python",
   "name": "python3"
  },
  "language_info": {
   "codemirror_mode": {
    "name": "ipython",
    "version": 3
   },
   "file_extension": ".py",
   "mimetype": "text/x-python",
   "name": "python",
   "nbconvert_exporter": "python",
   "pygments_lexer": "ipython3",
   "version": "3.7.6"
  }
 },
 "nbformat": 4,
 "nbformat_minor": 4
}
