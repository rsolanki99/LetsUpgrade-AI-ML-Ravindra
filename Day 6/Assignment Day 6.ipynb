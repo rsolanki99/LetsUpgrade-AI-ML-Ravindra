{
 "cells": [
  {
   "cell_type": "code",
   "execution_count": 74,
   "metadata": {},
   "outputs": [
    {
     "name": "stdout",
     "output_type": "stream",
     "text": [
      "Enter email address: rsolanki99@gmail.com\n",
      "gmail\n"
     ]
    }
   ],
   "source": [
    "#Question 1:\n",
    "#Assuming that we have some email addresses in the \"username@companyname.com\" format, please write program\n",
    "#to print the company name of a given email address. Both user names and company names are composed of letters\n",
    "#only.\n",
    "import re\n",
    "lst=input(\"Enter email address: \")\n",
    "company = lst.split('@')[1]\n",
    "final = company.split('.')[0]\n",
    "print (final)"
   ]
  },
  {
   "cell_type": "code",
   "execution_count": 14,
   "metadata": {},
   "outputs": [
    {
     "name": "stdout",
     "output_type": "stream",
     "text": [
      "Enter multiple values\n",
      "Zebra, apple, cat, lion\n",
      "['Zebra,', 'apple,', 'cat,', 'lion']\n"
     ]
    }
   ],
   "source": [
    "#Question 2:\n",
    "#Write a program that accepts a comma-separated sequence of words as input and prints the words in a comma\n",
    "#separated sequence after sorting them alphabetically.\n",
    "\n",
    "st=input(\"Enter multiple values\\n\")\n",
    "#print(st)\n",
    "st1=st.split()  #Split here and making list\n",
    "type(st1) # Checking type here\n",
    "st1.sort() # Sorting here\n",
    "print(st1) # print sorted list"
   ]
  },
  {
   "cell_type": "code",
   "execution_count": 1,
   "metadata": {
    "scrolled": true
   },
   "outputs": [
    {
     "name": "stdout",
     "output_type": "stream",
     "text": [
      "{'Python', 'Ravindra', 'Loving', 'Upgrade'}\n",
      "{'Loving', 'Python', 'Ravindra', 'Upgrade', 'Addition'}\n",
      "{'Python', 'Ravindra', 'Upgrade', 'Addition'}\n",
      "{'Python', 'Ravindra', 'Addition'}\n",
      "A U B = {'d', 2, 'c', 'a'}\n",
      "set()\n"
     ]
    }
   ],
   "source": [
    "#Question 3:\n",
    "#Create your own Jupyter Notebook for Sets.\n",
    "#Reference link: https://www.w3schools.com/python/python_sets.asp\n",
    "#Sets and its functions\n",
    "#Define Set\n",
    "my_set={'Ravindra','Python','Upgrade','Loving'}\n",
    "print(my_set)\n",
    "\n",
    "#functions\n",
    "my_set.add('Addition')\n",
    "print(my_set)\n",
    "\n",
    "my_set.pop()\n",
    "print(my_set)\n",
    "\n",
    "my_set.discard('Upgrade')\n",
    "print(my_set)\n",
    "\n",
    "A = {'a', 'c', 'd'}\n",
    "B = {'c', 'd', 2 }\n",
    "C = {1, 2, 3}\n",
    "print('A U B =', A.union(B))\n",
    "\n",
    "my_set.clear()\n",
    "print(my_set)"
   ]
  },
  {
   "cell_type": "code",
   "execution_count": 54,
   "metadata": {},
   "outputs": [
    {
     "name": "stdout",
     "output_type": "stream",
     "text": [
      "\n",
      "Enter the numbers : 1 3 5 7\n",
      "[1, 3, 5, 7]\n",
      "[2, 4, 6]\n"
     ]
    }
   ],
   "source": [
    "#Question 4:\n",
    "#Given a list of n-1 numbers ranging from 1 to n, your task is to find the missing number. There are no duplicates.\n",
    "\n",
    "\n",
    "def find_missing(textstring):\n",
    "    return [x for x in range(textstring[0], textstring[-1]+1)  \n",
    "                               if x not in textstring] \n",
    "\n",
    "#textstring=list(input(\"Enter numbers separated by commmas !!! \"))\n",
    "#type(textstring)\n",
    "textstring = list(map(int,input(\"\\nEnter the numbers : \").strip().split()))\n",
    "type(textstring)\n",
    "\n",
    "print(textstring)\n",
    "\n",
    "#textstring=[1,2,4]\n",
    "print(find_missing(textstring))\n"
   ]
  },
  {
   "cell_type": "code",
   "execution_count": 70,
   "metadata": {},
   "outputs": [
    {
     "name": "stdout",
     "output_type": "stream",
     "text": [
      "\n",
      "Enter the numbers : 2 2 2 4 4 4 5 1\n",
      "[2, 4, 5, 1]\n"
     ]
    }
   ],
   "source": [
    "#Question 5:\n",
    "#With a given list L, write a program to print this list L after removing all duplicate values with original order reserved.\n",
    "\n",
    "def Remove(duplicate): \n",
    "\tfinal_list = [] \n",
    "\tfor num in duplicate: \n",
    "\t\tif num not in final_list: \n",
    "\t\t\tfinal_list.append(num) \n",
    "\treturn final_list \n",
    "\t\n",
    "# Driver Code \n",
    "duplicate = list(map(int,input(\"\\nEnter the numbers : \").strip().split()))\n",
    "print(Remove(duplicate))\n"
   ]
  }
 ],
 "metadata": {
  "kernelspec": {
   "display_name": "Python 3",
   "language": "python",
   "name": "python3"
  },
  "language_info": {
   "codemirror_mode": {
    "name": "ipython",
    "version": 3
   },
   "file_extension": ".py",
   "mimetype": "text/x-python",
   "name": "python",
   "nbconvert_exporter": "python",
   "pygments_lexer": "ipython3",
   "version": "3.7.6"
  }
 },
 "nbformat": 4,
 "nbformat_minor": 4
}
