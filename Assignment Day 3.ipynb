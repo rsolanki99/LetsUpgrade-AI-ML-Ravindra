{
 "cells": [
  {
   "cell_type": "code",
   "execution_count": 13,
   "metadata": {},
   "outputs": [
    {
     "name": "stdout",
     "output_type": "stream",
     "text": [
      "Subtraction of Complex number is :  (2+2j)\n"
     ]
    }
   ],
   "source": [
    "# Assignment 3 - Q-1\n",
    "# Python program to subtract \n",
    "# two complex numbers \n",
    "\n",
    "# driver program \n",
    "z1 = complex(5, 4) \n",
    "z2 = complex(3, 2) \n",
    "print( \"Subtraction of Complex number is : \", z1-z2) \n"
   ]
  },
  {
   "cell_type": "code",
   "execution_count": 16,
   "metadata": {},
   "outputs": [
    {
     "data": {
      "text/plain": [
       "2.0"
      ]
     },
     "execution_count": 16,
     "metadata": {},
     "output_type": "execute_result"
    }
   ],
   "source": [
    "16**(1/4)"
   ]
  },
  {
   "cell_type": "code",
   "execution_count": 24,
   "metadata": {},
   "outputs": [
    {
     "name": "stdout",
     "output_type": "stream",
     "text": [
      "Enter any number 16\n",
      "Fourth root of  16.0  is  2.0\n"
     ]
    }
   ],
   "source": [
    "# Assignment 3 - Q-2\n",
    "# program to find the fourth root of a number.\n",
    "num = float(input(\"Enter any number \"))\n",
    "root = num ** (1/4)\n",
    "print(\"Fourth root of \", num, \" is \", root)"
   ]
  },
  {
   "cell_type": "code",
   "execution_count": 26,
   "metadata": {},
   "outputs": [
    {
     "name": "stdout",
     "output_type": "stream",
     "text": [
      "Enter First number 10\n",
      "Enter Second number 20\n",
      "Number 1  20.0\n",
      "Number 2  10.0\n"
     ]
    }
   ],
   "source": [
    "# Assignment 3 - Q-3\n",
    "# program to swap two numbers in Python with the help of a temporary variable.\n",
    "num1 = float(input(\"Enter First number \"))\n",
    "num2 = float(input(\"Enter Second number \"))\n",
    "temp=num1\n",
    "num1=num2\n",
    "num2=temp\n",
    "print(\"Number 1 \", num1)\n",
    "print(\"Number 2 \", num2)\n"
   ]
  },
  {
   "cell_type": "code",
   "execution_count": 27,
   "metadata": {},
   "outputs": [
    {
     "name": "stdout",
     "output_type": "stream",
     "text": [
      "Enter First number 10\n",
      "Enter Second number 20\n",
      "Number 1  20.0\n",
      "Number 2  10.0\n"
     ]
    }
   ],
   "source": [
    "# Assignment 3 - Q-4\n",
    "# program to swap two numbers in Python without using a temporary variable.\n",
    "num1 = float(input(\"Enter First number \"))\n",
    "num2 = float(input(\"Enter Second number \"))\n",
    "\n",
    "num1=num1+num2\n",
    "num2=num1-num2\n",
    "num1=num1-num2\n",
    "\n",
    "print(\"Number 1 \", num1)\n",
    "print(\"Number 2 \", num2)\n",
    "\n"
   ]
  },
  {
   "cell_type": "code",
   "execution_count": 29,
   "metadata": {
    "scrolled": true
   },
   "outputs": [
    {
     "name": "stdout",
     "output_type": "stream",
     "text": [
      "Enter Temperature in fahrenheit 30\n",
      "Temperature in Kelvin is  272.3888888888889\n",
      "Temperature in celsius is  -1.1111111111111112\n"
     ]
    }
   ],
   "source": [
    "# Assignment 3 - Q-5\n",
    "# program to convert fahrenheit to kelvin and celsius both.\n",
    "F = float(input(\"Enter Temperature in fahrenheit \"))\n",
    "K = 273.5 + ((F - 32.0) * (5.0/9.0))\n",
    "C = (F - 32.0) * (5.0/9.0)\n",
    "print(\"Temperature in Kelvin is \", K)\n",
    "print(\"Temperature in celsius is \", C)\n"
   ]
  },
  {
   "cell_type": "code",
   "execution_count": 40,
   "metadata": {},
   "outputs": [
    {
     "data": {
      "text/plain": [
       "set"
      ]
     },
     "execution_count": 40,
     "metadata": {},
     "output_type": "execute_result"
    }
   ],
   "source": [
    "# Assignment 3 - Q-6\n",
    "# program to demonstrate all the available data types in Python\n",
    "Name = \"Mumbai\"\n",
    "type(Name)\n",
    "\n",
    "num=10\n",
    "type(num)\n",
    "\n",
    "num1=20.0\n",
    "type(num2)\n",
    "\n",
    "my_dict={'Name':'Modi','Age':'32','Sex':'Male','Profession':'Service','Skills':'Python'}\n",
    "type(my_dict)\n",
    "\n",
    "my_lists=['1','Modi','_Python','365','Modi','Python is easy']\n",
    "type(my_lists)\n",
    "\n",
    "my_tuple=(1,2,'hello','b',3.0,1,1)\n",
    "type(my_tuple)\n",
    "\n",
    "my_set={'Shah','Python','Upgrade','Loving'}\n",
    "type(my_set)"
   ]
  },
  {
   "cell_type": "markdown",
   "metadata": {},
   "source": [
    "# Assignment 3 - Q-7\n",
    "#1. Create a Markdown cell in jupyter and list the steps discussed in the session by Dr. Darshan\n",
    "#2. Create a Github public repo and name it LetsUpgrade AI/ML \n",
    "#3. Upload the files/solution in the repo in day wise manner.  \n",
    "#4. Copy the URL of the Folder of that day and paste in the Assignment Submission Form (Google Form)\n"
   ]
  }
 ],
 "metadata": {
  "kernelspec": {
   "display_name": "Python 3",
   "language": "python",
   "name": "python3"
  },
  "language_info": {
   "codemirror_mode": {
    "name": "ipython",
    "version": 3
   },
   "file_extension": ".py",
   "mimetype": "text/x-python",
   "name": "python",
   "nbconvert_exporter": "python",
   "pygments_lexer": "ipython3",
   "version": "3.7.6"
  }
 },
 "nbformat": 4,
 "nbformat_minor": 4
}
