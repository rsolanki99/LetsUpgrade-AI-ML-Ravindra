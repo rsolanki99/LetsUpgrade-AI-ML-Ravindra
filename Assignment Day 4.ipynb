{
 "cells": [
  {
   "cell_type": "code",
   "execution_count": 9,
   "metadata": {},
   "outputs": [
    {
     "name": "stdout",
     "output_type": "stream",
     "text": [
      "Addition of Complex number is :  (8+6j)\n",
      "Subtraction of Complex number is :  (2+2j)\n",
      "Multiplication of Complex number is :  (7+22j)\n",
      "Division of Complex number is :  (1.7692307692307692+0.15384615384615394j)\n"
     ]
    }
   ],
   "source": [
    "# Assignment 4 - Q-1\n",
    "# Research on whether addition, subtraction, multiplication, division, floor division and modulo\n",
    "# operations be performed on complex numbers. Based on your study, implement a Python\n",
    "# program to demonstrate these operations.\n",
    "\n",
    "\n",
    "z1 = complex(5, 4) \n",
    "z2 = complex(3, 2) \n",
    "\n",
    "print( \"Addition of Complex number is : \", z1 + z2) \n",
    "print( \"Subtraction of Complex number is : \", z1 - z2) \n",
    "print( \"Multiplication of Complex number is : \", z1 * z2) \n",
    "print( \"Division of Complex number is : \", z1 / z2) \n",
    "#print( \"Module of Complex number is : \", z1 % z2)     -->> TypeError: can't mod complex numbers.\n",
    "#print( \"Floor division of Complex number is : \", z1 // z2) -->> TypeError: can't take floor of complex number."
   ]
  },
  {
   "cell_type": "code",
   "execution_count": 29,
   "metadata": {},
   "outputs": [
    {
     "name": "stdout",
     "output_type": "stream",
     "text": [
      "0 1 2 3 4 5 6 7 8 9 \n",
      "############## \n",
      "\n",
      "5 6 7 8 9 \n",
      "############## \n",
      "\n",
      "10 12 14 16 18 \n",
      "############## \n",
      "\n"
     ]
    }
   ],
   "source": [
    "# Assignment 4 - Q-2\n",
    "# Research on range() functions and its parameters. Create a markdown cell and write in your own\n",
    "# words (no copy-paste from google please) what you understand about it. Implement a small\n",
    "# program of your choice on the same.\n",
    "\n",
    "#Printing value from 0 to 10\n",
    "for i in range(10): \n",
    "    print(i, end =\" \") \n",
    "\n",
    "print(\"\\n############## \\n\")\n",
    "\n",
    "# Printing value starting from 5 to 10\n",
    "for i in range(5,10): \n",
    "    print(i, end =\" \") \n",
    "\n",
    "print(\"\\n############## \\n\")\n",
    "    \n",
    "#Printing value starting from 10 to 20 and incrementing by 2\n",
    "for i in range(10,20,2): \n",
    "    print(i, end =\" \")\n",
    "    \n",
    "print(\"\\n############## \\n\")"
   ]
  },
  {
   "cell_type": "code",
   "execution_count": 36,
   "metadata": {},
   "outputs": [
    {
     "name": "stdout",
     "output_type": "stream",
     "text": [
      "Enter First number 10\n",
      "Enter Second number 15\n",
      "The Subtraction of num1 and num2 is :  -5.0\n",
      "Division of two number is  0.6666666666666666\n"
     ]
    }
   ],
   "source": [
    "# Assignment 4 - Q-3\n",
    "# Consider two numbers. Perform their subtraction and if the result of subtraction is greater than\n",
    "# 25, print their multiplication result else print their division result.\n",
    "\n",
    "num1 = float(input(\"Enter First number \"))\n",
    "num2 = float(input(\"Enter Second number \"))\n",
    "\n",
    "a = num1-num2\n",
    "\n",
    "print(\"The Subtraction of num1 and num2 is : \", a )\n",
    "\n",
    "if a > 25:\n",
    "    t1 = num1 * num2\n",
    "    print(\"Multiplication of two number is \", t1)\n",
    "else:\n",
    "    t2 = num1 / num2\n",
    "    print(\"Division of two number is \", t2)\n"
   ]
  },
  {
   "cell_type": "code",
   "execution_count": 41,
   "metadata": {},
   "outputs": [
    {
     "name": "stdout",
     "output_type": "stream",
     "text": [
      "-2\n",
      "2\n",
      "14\n",
      "34\n",
      "62\n"
     ]
    }
   ],
   "source": [
    "# Assignment 4 - Q-4\n",
    "# Consider a list of 10 elements of integer values. If the number in the list is divisible by 2, print the\n",
    "# result as \"square of that number minus 2\".\n",
    "\n",
    "for i in range(10):\n",
    "    if i % 2 == 0:\n",
    "        print(i ** 2 - 2)\n"
   ]
  },
  {
   "cell_type": "code",
   "execution_count": 42,
   "metadata": {},
   "outputs": [
    {
     "name": "stdout",
     "output_type": "stream",
     "text": [
      "15\n",
      "16\n",
      "17\n",
      "18\n",
      "19\n"
     ]
    }
   ],
   "source": [
    "# Assignment 4 - Q-5\n",
    "#Consider a list of 10 elements. Print all the elements in the list which are greater than 7 when that\n",
    "#number is divided 2.\n",
    "for i in range(10,20):\n",
    "    if i/2 > 7:\n",
    "        print(i)\n"
   ]
  }
 ],
 "metadata": {
  "kernelspec": {
   "display_name": "Python 3",
   "language": "python",
   "name": "python3"
  },
  "language_info": {
   "codemirror_mode": {
    "name": "ipython",
    "version": 3
   },
   "file_extension": ".py",
   "mimetype": "text/x-python",
   "name": "python",
   "nbconvert_exporter": "python",
   "pygments_lexer": "ipython3",
   "version": "3.7.6"
  }
 },
 "nbformat": 4,
 "nbformat_minor": 4
}
