{
 "cells": [
  {
   "cell_type": "code",
   "execution_count": 2,
   "metadata": {},
   "outputs": [
    {
     "name": "stdout",
     "output_type": "stream",
     "text": [
      "[[[0.32790089 0.57049854 0.97318751]\n",
      "  [0.56225436 0.61307606 0.03177034]\n",
      "  [0.83836857 0.11000338 0.30762417]]\n",
      "\n",
      " [[0.84576269 0.69829375 0.60742609]\n",
      "  [0.32821753 0.43675844 0.51718044]\n",
      "  [0.76209407 0.77674104 0.31493272]]\n",
      "\n",
      " [[0.0746867  0.24014325 0.42625665]\n",
      "  [0.17837453 0.8585976  0.69697831]\n",
      "  [0.41406919 0.11683008 0.64624023]]]\n"
     ]
    }
   ],
   "source": [
    "#Ques1:Create a 3x3x3 array with random values\n",
    "\n",
    "import numpy as np\n",
    "x = np.random.random((3,3,3))\n",
    "print(x)"
   ]
  },
  {
   "cell_type": "code",
   "execution_count": 3,
   "metadata": {},
   "outputs": [
    {
     "name": "stdout",
     "output_type": "stream",
     "text": [
      "Checkerboard pattern:\n",
      "[[0 1 0 1 0 1 0 1]\n",
      " [1 0 1 0 1 0 1 0]\n",
      " [0 1 0 1 0 1 0 1]\n",
      " [1 0 1 0 1 0 1 0]\n",
      " [0 1 0 1 0 1 0 1]\n",
      " [1 0 1 0 1 0 1 0]\n",
      " [0 1 0 1 0 1 0 1]\n",
      " [1 0 1 0 1 0 1 0]]\n"
     ]
    }
   ],
   "source": [
    "#Ques3:Create a 8x8 matrix and fill it with a checkerboard pattern\n",
    "\n",
    "import numpy as np\n",
    "print(\"Checkerboard pattern:\")\n",
    "x = np.zeros((8,8),dtype=int)\n",
    "x[1::2,::2] = 1\n",
    "x[::2,1::2] = 1\n",
    "print(x)"
   ]
  },
  {
   "cell_type": "code",
   "execution_count": 4,
   "metadata": {},
   "outputs": [
    {
     "name": "stdout",
     "output_type": "stream",
     "text": [
      "Array1:  [ 0 10 20 40 60]\n",
      "Array2:  [10, 30, 40]\n",
      "Common values between two arrays:\n",
      "[10 40]\n"
     ]
    }
   ],
   "source": [
    "#Ques5:How to find common values between two arrays?\n",
    "\n",
    "import numpy as np\n",
    "array1 = np.array([0, 10, 20, 40, 60])\n",
    "print(\"Array1: \",array1)\n",
    "array2 = [10, 30, 40]\n",
    "print(\"Array2: \",array2)\n",
    "print(\"Common values between two arrays:\")\n",
    "print(np.intersect1d(array1, array2))"
   ]
  },
  {
   "cell_type": "code",
   "execution_count": 5,
   "metadata": {},
   "outputs": [
    {
     "name": "stdout",
     "output_type": "stream",
     "text": [
      "Original array:\n",
      "[0.54801067 0.5924285  0.15893798 0.41161388 0.69899443 0.17248579\n",
      " 0.2887293  0.91591404 0.62340795 0.03832253]\n",
      "Maximum value replaced by 0:\n",
      "[0.54801067 0.5924285  0.15893798 0.41161388 0.69899443 0.17248579\n",
      " 0.2887293  0.         0.62340795 0.03832253]\n"
     ]
    }
   ],
   "source": [
    "#Ques8:Create random vector of size 10 and replace the maximum value by 0\n",
    "\n",
    "import numpy as np\n",
    "x = np.random.random(10)\n",
    "print(\"Original array:\")\n",
    "print(x)\n",
    "x[x.argmax()] = 0\n",
    "print(\"Maximum value replaced by 0:\")\n",
    "print(x)"
   ]
  }
 ],
 "metadata": {
  "kernelspec": {
   "display_name": "Python 3",
   "language": "python",
   "name": "python3"
  },
  "language_info": {
   "codemirror_mode": {
    "name": "ipython",
    "version": 3
   },
   "file_extension": ".py",
   "mimetype": "text/x-python",
   "name": "python",
   "nbconvert_exporter": "python",
   "pygments_lexer": "ipython3",
   "version": "3.7.6"
  }
 },
 "nbformat": 4,
 "nbformat_minor": 4
}
